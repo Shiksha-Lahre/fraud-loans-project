{
 "cells": [
  {
   "cell_type": "code",
   "execution_count": 2,
   "id": "9e00bed4-f548-46a0-9c9d-587d71ff8656",
   "metadata": {},
   "outputs": [],
   "source": [
    "import pandas as pd      \n",
    "import numpy as np       \n",
    "import matplotlib.pyplot as plt  \n",
    "import seaborn as sns   \n"
   ]
  },
  {
   "cell_type": "code",
   "execution_count": 3,
   "id": "87290458-cf3d-482d-a400-1163ff5b2fa0",
   "metadata": {},
   "outputs": [],
   "source": [
    "import mysql.connector   # basic MySQL connector\n",
    "from sqlalchemy import create_engine   \n"
   ]
  },
  {
   "cell_type": "code",
   "execution_count": 5,
   "id": "4edb3943-fd80-4273-ad08-015500759808",
   "metadata": {},
   "outputs": [],
   "source": [
    "fraud_df = pd.read_csv(\"C:/Users/shiks/Downloads/fraud_transactions.csv\")"
   ]
  },
  {
   "cell_type": "code",
   "execution_count": 10,
   "id": "0dc0085b-1444-46bc-912c-9afc177f1101",
   "metadata": {},
   "outputs": [],
   "source": [
    "fraud_df1 = pd.read_csv(\"fraud_transactions.csv\")"
   ]
  },
  {
   "cell_type": "code",
   "execution_count": 7,
   "id": "85d029f5-83ab-4c4e-83ec-63ff31b4bdb8",
   "metadata": {},
   "outputs": [],
   "source": [
    "#eda"
   ]
  },
  {
   "cell_type": "code",
   "execution_count": 8,
   "id": "ca47d787-9617-4582-93c8-323b20efca6a",
   "metadata": {},
   "outputs": [
    {
     "name": "stdout",
     "output_type": "stream",
     "text": [
      "Total: 284807\n",
      "Fraud Count: 492\n",
      "Fraud %: 0.1727\n"
     ]
    }
   ],
   "source": [
    "fraud_count = fraud_df['Class'].sum()\n",
    "total = fraud_df.shape[0]\n",
    "fraud_pct = round((fraud_count / total) * 100, 4)\n",
    "\n",
    "print(\"Total:\", total)\n",
    "print(\"Fraud Count:\", fraud_count)\n",
    "print(\"Fraud %:\", fraud_pct)\n",
    "\n"
   ]
  },
  {
   "cell_type": "code",
   "execution_count": 11,
   "id": "1269aac3-69de-42d3-b937-1150ce50fb44",
   "metadata": {},
   "outputs": [
    {
     "name": "stdout",
     "output_type": "stream",
     "text": [
      "   amount_bin     Class\n",
      "0           0  0.003651\n",
      "1           1  0.000860\n",
      "2           2  0.000543\n",
      "3           3  0.001292\n",
      "4           4  0.002301\n"
     ]
    }
   ],
   "source": [
    "fraud_by_amount = fraud_df1.groupby('amount_bin')['Class'].mean().reset_index()\n",
    "print(fraud_by_amount)\n"
   ]
  },
  {
   "cell_type": "code",
   "execution_count": 12,
   "id": "143713a7-7af3-48aa-9d0e-80731d42f2dd",
   "metadata": {},
   "outputs": [
    {
     "name": "stdout",
     "output_type": "stream",
     "text": [
      "    hour_of_day     Class\n",
      "0           0.0  0.000780\n",
      "1           1.0  0.002370\n",
      "2           2.0  0.017127\n",
      "3           3.0  0.004868\n",
      "4           4.0  0.010412\n",
      "5           5.0  0.003679\n",
      "6           6.0  0.002195\n",
      "7           7.0  0.003175\n",
      "8           8.0  0.000876\n",
      "9           9.0  0.001010\n",
      "10         10.0  0.000482\n",
      "11         11.0  0.003144\n",
      "12         12.0  0.001102\n",
      "13         13.0  0.001106\n",
      "14         14.0  0.001388\n",
      "15         15.0  0.001579\n",
      "16         16.0  0.001337\n",
      "17         17.0  0.001794\n",
      "18         18.0  0.001937\n",
      "19         19.0  0.001214\n",
      "20         20.0  0.001074\n",
      "21         21.0  0.000904\n",
      "22         22.0  0.000583\n",
      "23         23.0  0.001920\n"
     ]
    }
   ],
   "source": [
    "fraud_by_hour = fraud_df1.groupby('hour_of_day')['Class'].mean().reset_index()\n",
    "print(fraud_by_hour)\n"
   ]
  },
  {
   "cell_type": "code",
   "execution_count": 13,
   "id": "0b7b886d-2389-4ff0-868f-ac34f44512ee",
   "metadata": {},
   "outputs": [
    {
     "name": "stdout",
     "output_type": "stream",
     "text": [
      "   is_night     Class\n",
      "0         0  0.001411\n",
      "1         1  0.005181\n"
     ]
    }
   ],
   "source": [
    "fraud_by_night = fraud_df1.groupby('is_night')['Class'].mean().reset_index()\n",
    "print(fraud_by_night)\n"
   ]
  },
  {
   "cell_type": "code",
   "execution_count": 14,
   "id": "7a22c1a2-0123-4b54-81aa-a1d212507e4d",
   "metadata": {},
   "outputs": [
    {
     "name": "stdout",
     "output_type": "stream",
     "text": [
      "   Class      Amount\n",
      "0      0   88.291022\n",
      "1      1  122.211321\n"
     ]
    }
   ],
   "source": [
    "avg_amounts = fraud_df1.groupby('Class')['Amount'].mean().reset_index()\n",
    "print(avg_amounts)\n"
   ]
  },
  {
   "cell_type": "code",
   "execution_count": null,
   "id": "64453bf9-921e-4709-b554-e1ac36d03b55",
   "metadata": {},
   "outputs": [],
   "source": []
  }
 ],
 "metadata": {
  "kernelspec": {
   "display_name": "Python 3 (ipykernel)",
   "language": "python",
   "name": "python3"
  },
  "language_info": {
   "codemirror_mode": {
    "name": "ipython",
    "version": 3
   },
   "file_extension": ".py",
   "mimetype": "text/x-python",
   "name": "python",
   "nbconvert_exporter": "python",
   "pygments_lexer": "ipython3",
   "version": "3.11.0"
  }
 },
 "nbformat": 4,
 "nbformat_minor": 5
}
