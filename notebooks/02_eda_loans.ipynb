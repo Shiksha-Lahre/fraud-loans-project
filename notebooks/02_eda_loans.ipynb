{
 "cells": [
  {
   "cell_type": "code",
   "execution_count": 1,
   "id": "37a916ba-f601-42cd-8b46-6b4b9282483c",
   "metadata": {},
   "outputs": [],
   "source": [
    "import pandas as pd      \n",
    "import numpy as np       \n",
    "import matplotlib.pyplot as plt  \n",
    "import seaborn as sns\n",
    "import pandasql as ps"
   ]
  },
  {
   "cell_type": "code",
   "execution_count": 2,
   "id": "7b757224-a428-41d5-ac46-5a0a7a42c080",
   "metadata": {},
   "outputs": [],
   "source": [
    "import mysql.connector   # basic MySQL connector\n",
    "from sqlalchemy import create_engine "
   ]
  },
  {
   "cell_type": "code",
   "execution_count": 3,
   "id": "bdae4f8c-41b1-485a-a73b-44dc71f0944b",
   "metadata": {},
   "outputs": [],
   "source": [
    "loan_df = pd.read_csv(\"C:/Users/shiks/Downloads/loan_data.csv\")"
   ]
  },
  {
   "cell_type": "code",
   "execution_count": 6,
   "id": "5f521037-7818-41f4-a477-99c4e1980a37",
   "metadata": {},
   "outputs": [],
   "source": [
    "loan_df1 = pd.read_csv(\"loan_features.csv\")"
   ]
  },
  {
   "cell_type": "code",
   "execution_count": 4,
   "id": "08b5c994-8550-4fbb-8030-486ef4aced3f",
   "metadata": {},
   "outputs": [],
   "source": [
    "#eda"
   ]
  },
  {
   "cell_type": "code",
   "execution_count": 5,
   "id": "5c611ed1-dc58-4685-bd30-5ecc2d83a970",
   "metadata": {},
   "outputs": [
    {
     "name": "stdout",
     "output_type": "stream",
     "text": [
      "   loan_status  total_loans  pct_share\n",
      "0            0        35000      77.78\n",
      "1            1        10000      22.22\n"
     ]
    }
   ],
   "source": [
    "query = \"\"\"\n",
    "SELECT loan_status,\n",
    "       COUNT(*) AS total_loans,\n",
    "       ROUND(COUNT(*)*100.0 / (SELECT COUNT(*) FROM loan_df), 2) AS pct_share\n",
    "FROM loan_df\n",
    "GROUP BY loan_status;\n",
    "\"\"\"\n",
    "\n",
    "result = ps.sqldf(query, locals())\n",
    "print(result)\n",
    "\n"
   ]
  },
  {
   "cell_type": "code",
   "execution_count": 7,
   "id": "9ce7c306-8bc3-485c-a1b3-e477c95a3a8b",
   "metadata": {},
   "outputs": [
    {
     "name": "stdout",
     "output_type": "stream",
     "text": [
      "Total Loans: 45000\n",
      "Defaults: 10000\n",
      "Default %: 22.22\n"
     ]
    }
   ],
   "source": [
    "default_count = loan_df['loan_status'].sum()\n",
    "total_loans = loan_df.shape[0]\n",
    "default_pct = round((default_count / total_loans) * 100, 2)\n",
    "\n",
    "print(\"Total Loans:\", total_loans)\n",
    "print(\"Defaults:\", default_count)\n",
    "print(\"Default %:\", default_pct)\n"
   ]
  },
  {
   "cell_type": "code",
   "execution_count": 9,
   "id": "697006ea-0d53-42b1-bc91-aec8e868b22d",
   "metadata": {},
   "outputs": [
    {
     "name": "stdout",
     "output_type": "stream",
     "text": [
      "  income_bucket  loan_status\n",
      "0          High     0.172104\n",
      "1           Low     0.403733\n",
      "2        Medium     0.220514\n",
      "3     Very High     0.092533\n"
     ]
    }
   ],
   "source": [
    "default_by_income = loan_df1.groupby('income_bucket')['loan_status'].mean().reset_index()\n",
    "print(default_by_income)\n"
   ]
  },
  {
   "cell_type": "code",
   "execution_count": 10,
   "id": "2ab1b04a-774a-47c2-a36a-40cd8861567e",
   "metadata": {},
   "outputs": [
    {
     "name": "stdout",
     "output_type": "stream",
     "text": [
      "         loan_intent  loan_status\n",
      "0  DEBTCONSOLIDATION     0.302729\n",
      "1          EDUCATION     0.169562\n",
      "2    HOMEIMPROVEMENT     0.263015\n",
      "3            MEDICAL     0.278194\n",
      "4           PERSONAL     0.201404\n",
      "5            VENTURE     0.144264\n"
     ]
    }
   ],
   "source": [
    "default_by_intent = loan_df1.groupby('loan_intent')['loan_status'].mean().reset_index()\n",
    "print(default_by_intent)\n"
   ]
  },
  {
   "cell_type": "code",
   "execution_count": 11,
   "id": "b17e995c-3232-4b84-8be2-cf8050652539",
   "metadata": {},
   "outputs": [
    {
     "name": "stdout",
     "output_type": "stream",
     "text": [
      "  credit_score_bucket  loan_status\n",
      "0           Excellent     0.000000\n",
      "1                Fair     0.224511\n",
      "2                Good     0.216117\n",
      "3                Poor     0.223070\n",
      "4           Very Good     0.211765\n"
     ]
    }
   ],
   "source": [
    "default_by_credit = loan_df1.groupby('credit_score_bucket')['loan_status'].mean().reset_index()\n",
    "print(default_by_credit)\n"
   ]
  },
  {
   "cell_type": "code",
   "execution_count": 12,
   "id": "c6e96603-eb99-4c2e-8ab4-ea8a67ca61ea",
   "metadata": {},
   "outputs": [
    {
     "name": "stdout",
     "output_type": "stream",
     "text": [
      "   prev_default_flag  loan_status\n",
      "0                  0      0.45163\n",
      "1                  1      0.00000\n"
     ]
    }
   ],
   "source": [
    "default_prev = loan_df1.groupby('prev_default_flag')['loan_status'].mean().reset_index()\n",
    "print(default_prev)\n"
   ]
  },
  {
   "cell_type": "code",
   "execution_count": 13,
   "id": "3c8d0853-ec80-47fb-b2e4-6357c36ca672",
   "metadata": {},
   "outputs": [
    {
     "name": "stdout",
     "output_type": "stream",
     "text": [
      "            dti_group  loan_status\n",
      "0  (-5.92e-06, 0.133]     0.125307\n",
      "1      (0.133, 0.266]     0.240891\n",
      "2      (0.266, 0.399]     0.705301\n",
      "3      (0.399, 0.531]     0.752193\n",
      "4      (0.531, 0.664]     0.689655\n"
     ]
    },
    {
     "name": "stderr",
     "output_type": "stream",
     "text": [
      "C:\\Users\\shiks\\AppData\\Local\\Temp\\ipykernel_13364\\1863944674.py:2: FutureWarning: The default of observed=False is deprecated and will be changed to True in a future version of pandas. Pass observed=False to retain current behavior or observed=True to adopt the future default and silence this warning.\n",
      "  default_by_dti = loan_df1.groupby('dti_group')['loan_status'].mean().reset_index()\n"
     ]
    }
   ],
   "source": [
    "loan_df1['dti_group'] = pd.cut(loan_df1['debt_to_income'], bins=5)\n",
    "default_by_dti = loan_df1.groupby('dti_group')['loan_status'].mean().reset_index()\n",
    "print(default_by_dti)\n"
   ]
  },
  {
   "cell_type": "code",
   "execution_count": null,
   "id": "8318c0bc-18e1-4631-ae87-76d7cb20de31",
   "metadata": {},
   "outputs": [],
   "source": []
  }
 ],
 "metadata": {
  "kernelspec": {
   "display_name": "Python 3 (ipykernel)",
   "language": "python",
   "name": "python3"
  },
  "language_info": {
   "codemirror_mode": {
    "name": "ipython",
    "version": 3
   },
   "file_extension": ".py",
   "mimetype": "text/x-python",
   "name": "python",
   "nbconvert_exporter": "python",
   "pygments_lexer": "ipython3",
   "version": "3.11.0"
  }
 },
 "nbformat": 4,
 "nbformat_minor": 5
}
